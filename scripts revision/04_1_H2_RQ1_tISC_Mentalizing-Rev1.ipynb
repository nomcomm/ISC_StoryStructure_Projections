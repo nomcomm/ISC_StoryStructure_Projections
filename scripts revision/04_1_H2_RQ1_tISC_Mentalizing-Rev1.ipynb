{
 "cells": [
  {
   "cell_type": "markdown",
   "metadata": {},
   "source": [
    "### RQ1: tISC in Mentalizing Network \n",
    "\n",
    "#### Import modules"
   ]
  },
  {
   "cell_type": "code",
   "execution_count": 1,
   "metadata": {},
   "outputs": [
    {
     "name": "stderr",
     "output_type": "stream",
     "text": [
      "/opt/anaconda3/envs/neuroimaging/lib/python3.9/site-packages/nilearn/input_data/__init__.py:27: FutureWarning: The import path 'nilearn.input_data' is deprecated in version 0.9. Importing from 'nilearn.input_data' will be possible at least until release 0.13.0. Please import from 'nilearn.maskers' instead.\n",
      "  warnings.warn(message, FutureWarning)\n"
     ]
    }
   ],
   "source": [
    "import matplotlib.pyplot as plt\n",
    "%matplotlib inline\n",
    "import numpy as np\n",
    "from nilearn import input_data, datasets, plotting\n",
    "from nilearn.input_data import NiftiMasker\n",
    "import nilearn, pickle, sys, os, scipy, logging\n",
    "import seaborn as sns\n",
    "import pandas as pd\n",
    "from utils import *\n",
    "import nibabel as nib\n",
    "#from nilearn.image import new_img_like, load_img, get_data\n",
    "sns.set_style('white')\n",
    "logger = logging.getLogger(__name__)\n",
    "MAX_RANDOM_SEED = 2**32 - 1"
   ]
  },
  {
   "cell_type": "markdown",
   "metadata": {},
   "source": [
    "#### Set up segments\n",
    "see paper for details on scene coding"
   ]
  },
  {
   "cell_type": "code",
   "execution_count": 2,
   "metadata": {},
   "outputs": [
    {
     "name": "stdout",
     "output_type": "stream",
     "text": [
      "Onsets: [  7  45 116 138]\n",
      "Offsets: [ 45 116 138 157]\n",
      "Shifted Onsets: [ 14  52 123 145]\n",
      "Shifted Offsets: [ 52 123 145 164]\n"
     ]
    },
    {
     "data": {
      "text/plain": [
       "4"
      ]
     },
     "execution_count": 2,
     "metadata": {},
     "output_type": "execute_result"
    }
   ],
   "source": [
    "act_segments = [ 'Act  A    0:14 1:30    Secs( 14 -  90)   TRs (  7 -  45)   Premise: Clouds produce babies and storks deliver them',\n",
    "                 'Act  B    1:30 3:53    Secs( 90 - 233)   TRs ( 45 - 116)   Rising Action: Gus, the cloud, makes bad babies, which hurt Peck, the stork',\n",
    "                 'Act C/D   3:53 4:35    Secs(233 - 275)   TRs (116 - 138)   Conflict/Resolution & Climax: Peck leaves for another cloud, Gus is sad',\n",
    "                 'Act  E    4:35 5:14    Secs(275 - 314)   TRs (138 - 157)   Fall Out: Peck returns. He carries protective gear. Happily ever after ']\n",
    "\n",
    "onsets = np.array([7, 45, 116, 138])\n",
    "print('Onsets: ' + str(onsets))\n",
    "\n",
    "offsets = np.hstack((onsets[1:], 157))\n",
    "print('Offsets: ' + str(offsets))\n",
    "\n",
    "onsets = onsets + 5 + 2   # the onset and hrf delay\n",
    "print('Shifted Onsets: ' + str(onsets))\n",
    "offsets = offsets + 5 + 2   \n",
    "print('Shifted Offsets: ' + str(offsets))\n",
    "\n",
    "n_bins = len(onsets)\n",
    "n_bins"
   ]
  },
  {
   "cell_type": "markdown",
   "metadata": {},
   "source": [
    "### Run segment-wise ISC"
   ]
  },
  {
   "cell_type": "code",
   "execution_count": 3,
   "metadata": {},
   "outputs": [
    {
     "name": "stdout",
     "output_type": "stream",
     "text": [
      "33\n",
      "(33, 168, 1)\n",
      "(168, 1, 33)\n",
      "current bin0\n",
      "Assuming 33 subjects with 38 time points and 1 voxel(s) or ROI(s).\n",
      "[[0.18195721]]\n",
      "Assuming 33 subjects with 38 time points and 1 voxel(s) or ROI(s).\n",
      "Assuming 33 subjects with 38 time points and 1 voxel(s) or ROI(s).\n",
      "0.1690352679645019\n",
      "current bin1\n",
      "Assuming 33 subjects with 71 time points and 1 voxel(s) or ROI(s).\n",
      "[[0.3544684]]\n",
      "Assuming 33 subjects with 71 time points and 1 voxel(s) or ROI(s).\n",
      "Assuming 33 subjects with 71 time points and 1 voxel(s) or ROI(s).\n",
      "0.3335275945777867\n",
      "current bin2\n",
      "Assuming 33 subjects with 22 time points and 1 voxel(s) or ROI(s).\n",
      "[[0.36349365]]\n",
      "Assuming 33 subjects with 22 time points and 1 voxel(s) or ROI(s).\n",
      "Assuming 33 subjects with 22 time points and 1 voxel(s) or ROI(s).\n",
      "0.34308553719099905\n",
      "current bin3\n",
      "Assuming 33 subjects with 19 time points and 1 voxel(s) or ROI(s).\n",
      "[[0.357165]]\n",
      "Assuming 33 subjects with 19 time points and 1 voxel(s) or ROI(s).\n",
      "Assuming 33 subjects with 19 time points and 1 voxel(s) or ROI(s).\n",
      "0.33549746053948193\n"
     ]
    }
   ],
   "source": [
    "current_array_filename = '../data/ts_array_mentalizingfine_regional_average_ages13-99.npy'\n",
    "\n",
    "ts_array = np.load(current_array_filename)\n",
    "    \n",
    "n_subjs = ts_array.shape[0]\n",
    "print(n_subjs)\n",
    "\n",
    "print(ts_array.shape)\n",
    "ts_data = np.swapaxes(ts_array, 0, 2)\n",
    "ts_data = np.swapaxes(ts_data, 0, 1)\n",
    "print(ts_data.shape)\n",
    "\n",
    "stacked_res          = []\n",
    "stacked_res_cond_vec = []\n",
    "segment_iscs         = np.zeros( n_bins)\n",
    "a = []\n",
    "b = []\n",
    "# loop over segments\n",
    "for curr_bin in range(4):\n",
    "            print('current bin' + str(curr_bin) )\n",
    "\n",
    "            curr_data = np.squeeze(ts_data[onsets[curr_bin]:offsets[curr_bin], :, : ])\n",
    "            \n",
    "            curr_res = partly_isc(curr_data, summary_statistic = np.mean)\n",
    "            a.append(curr_res[0])\n",
    "            print(curr_res)\n",
    "            curr_res = partly_isc(curr_data, pairwise = False)\n",
    "            stacked_res.append(np.arctanh(partly_isc(curr_data, pairwise = False)))\n",
    "            stacked_res_cond_vec.append((np.ones(curr_res.shape[0]) * curr_bin).T)\n",
    "            \n",
    "            b.append(np.tanh(np.mean(np.arctanh(curr_res), axis=0))[np.newaxis, :][0])\n",
    "            print(np.mean(curr_res))"
   ]
  },
  {
   "cell_type": "code",
   "execution_count": 5,
   "metadata": {},
   "outputs": [
    {
     "data": {
      "image/png": "[encoded data removed]",
      "text/plain": [
       "<Figure size 576x432 with 1 Axes>"
      ]
     },
     "metadata": {},
     "output_type": "display_data"
    }
   ],
   "source": [
    "ISC           = np.asarray(stacked_res).flatten()\n",
    "cond          = np.asarray(stacked_res_cond_vec).flatten()\n",
    "df            = pd.DataFrame(ISC, columns = ['ISC']);\n",
    "df['Segment'] = cond;\n",
    "\n",
    "x              = np.arange(segment_iscs.shape[0]);\n",
    "fill_color     = ['yellow', 'red','green','orange'];\n",
    "\n",
    "plt.figure(figsize = (8,6))\n",
    "ax = sns.barplot(x=\"Segment\", y=\"ISC\", data=df, palette = fill_color, alpha = 0.5)\n",
    "plt.xticks(x, ['Premise','Rising Action','Climax','Resolution']);\n",
    "sns.despine()"
   ]
  },
  {
   "cell_type": "markdown",
   "metadata": {},
   "source": [
    "### Plot Timeseries"
   ]
  },
  {
   "cell_type": "code",
   "execution_count": null,
   "metadata": {},
   "outputs": [],
   "source": [
    "ts_array = np.squeeze(np.load(current_array_filename))\n",
    "print('loading ... ' + str(current_array_filename))\n",
    "\n",
    "print(ts_array.shape)\n",
    "ts_array = np.swapaxes(ts_array, 0, 1)\n",
    "print(ts_array.shape)\n",
    "\n",
    "\n",
    "# Aggregate over first subjects\n",
    "curr_data = ts_array[:,:16]\n",
    "print(curr_data.shape)\n",
    "\n",
    "n_timepoints = curr_data.shape[0]\n",
    "n_viewers = curr_data.shape[1]\n",
    "\n",
    "df = pd.DataFrame(columns = ['subject', 'timepoint', 'signal'])\n",
    "\n",
    "counter = 0\n",
    "for curr_s in range(n_viewers):\n",
    "            for curr_t in range(n_timepoints):\n",
    "                sub = 'sub' + str(curr_s)\n",
    "                tim = curr_t\n",
    "                sig = curr_data[curr_t, curr_s]\n",
    "                df.loc[counter] = [sub, tim, sig]\n",
    "                counter += 1\n",
    "                \n",
    "                \n",
    "# Aggregate over remainder of subjects\n",
    "curr_data = ts_array[:,16:]\n",
    "print(curr_data.shape)\n",
    "\n",
    "n_timepoints = curr_data.shape[0]\n",
    "n_viewers = curr_data.shape[1]\n",
    "\n",
    "df2 = pd.DataFrame(columns = ['subject', 'timepoint', 'signal'])\n",
    "\n",
    "counter = 0\n",
    "for curr_s in range(n_viewers):\n",
    "            for curr_t in range(n_timepoints):\n",
    "                sub = 'sub' + str(curr_s)\n",
    "                tim = curr_t\n",
    "                sig = curr_data[curr_t, curr_s]\n",
    "                df2.loc[counter] = [sub, tim, sig]\n",
    "                counter += 1\n",
    "        \n",
    "        \n",
    "# Plot first     \n",
    "plt.figure(figsize = (16 ,2))\n",
    "ax = sns.lineplot(x = \"timepoint\", y = \"signal\", data = df, color = 'blue'); \n",
    "\n",
    "for i in range(len(onsets)):   \n",
    "    plt.fill_between([onsets[i], offsets[i]], [-2, -2], [2, 2], color=fill_color[i], alpha=0.1)\n",
    "sns.despine()\n",
    "\n",
    "# Plot second\n",
    "plt.figure(figsize = (16 ,2))\n",
    "ax = sns.lineplot(x = \"timepoint\", y = \"signal\", data = df2, color = 'blue'); \n",
    "sns.despine()\n",
    "\n",
    "for i in range(len(onsets)):       \n",
    "    plt.fill_between([onsets[i], offsets[i]], [-2, -2], [2, 2], color=fill_color[i], alpha=0.1)"
   ]
  },
  {
   "cell_type": "markdown",
   "metadata": {},
   "source": [
    "### Compute differences between segments"
   ]
  },
  {
   "cell_type": "code",
   "execution_count": 8,
   "metadata": {},
   "outputs": [
    {
     "name": "stdout",
     "output_type": "stream",
     "text": [
      "Ttest_relResult(statistic=-3.1212692175345484, pvalue=0.0038019766753602602)\n",
      "observed:[-0.20468074]\n",
      "p:[0.01398601]\n"
     ]
    }
   ],
   "source": [
    "print(scipy.stats.ttest_rel(ISC[:33], ISC[33:66]))\n",
    "\n",
    "observed, p, distribution = permutation_isc(ISC[:66], group_assignment=cond[:66], pairwise=False,  \n",
    "                    summary_statistic='mean', n_permutations=1000,\n",
    "                    random_state=42,\n",
    "                                           )\n",
    "p = p.ravel()\n",
    "observed = observed.ravel()\n",
    "print('observed:{}'.format(observed))\n",
    "print('p:{}'.format(p))\n",
    "#print('distribution: {}'.format(distribution))\n",
    "\n"
   ]
  },
  {
   "cell_type": "code",
   "execution_count": 9,
   "metadata": {},
   "outputs": [
    {
     "name": "stdout",
     "output_type": "stream",
     "text": [
      "Ttest_relResult(statistic=-0.2145760663554513, pvalue=0.8314594306666608)\n",
      "observed:[-0.01799602]\n",
      "p:[0.79220779]\n"
     ]
    }
   ],
   "source": [
    "print(scipy.stats.ttest_rel(ISC[33:66], ISC[66:99]))\n",
    "\n",
    "observed, p, distribution = permutation_isc(np.hstack((ISC[33:66], ISC[66:99])), \n",
    "                                            group_assignment=np.hstack((cond[33:66], cond[66:99])), \n",
    "                                            pairwise=False,  \n",
    "                                            summary_statistic='mean', \n",
    "                                            n_permutations=1000,\n",
    "                                            random_state=42,)\n",
    "p = p.ravel()\n",
    "observed = observed.ravel()\n",
    "print('observed:{}'.format(observed))\n",
    "print('p:{}'.format(p))\n",
    "#print('distribution: {}'.format(distribution))\n"
   ]
  },
  {
   "cell_type": "code",
   "execution_count": 10,
   "metadata": {},
   "outputs": [
    {
     "name": "stdout",
     "output_type": "stream",
     "text": [
      "Ttest_relResult(statistic=0.12342466255713022, pvalue=0.9025428106514224)\n",
      "observed:[0.00538023]\n",
      "p:[0.96003996]\n"
     ]
    }
   ],
   "source": [
    "print(scipy.stats.ttest_rel(ISC[66:99], ISC[99:]))\n",
    "\n",
    "observed, p, distribution = permutation_isc(np.hstack((ISC[66:99], ISC[99:])), \n",
    "                                            group_assignment=np.hstack((cond[66:99], cond[99:])), \n",
    "                                            pairwise=False,  \n",
    "                                            summary_statistic='mean', \n",
    "                                            n_permutations=1000,\n",
    "                                            random_state=42,)\n",
    "p = p.ravel()\n",
    "observed = observed.ravel()\n",
    "print('observed:{}'.format(observed))\n",
    "print('p:{}'.format(p))\n",
    "#print('distribution: {}'.format(distribution))\n"
   ]
  }
 ],
 "metadata": {
  "kernelspec": {
   "display_name": "Python 3",
   "language": "python",
   "name": "python3"
  },
  "language_info": {
   "codemirror_mode": {
    "name": "ipython",
    "version": 3
   },
   "file_extension": ".py",
   "mimetype": "text/x-python",
   "name": "python",
   "nbconvert_exporter": "python",
   "pygments_lexer": "ipython3",
   "version": "3.9.1"
  }
 },
 "nbformat": 4,
 "nbformat_minor": 4
}
