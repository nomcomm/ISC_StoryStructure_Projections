{
 "cells": [
  {
   "cell_type": "markdown",
   "metadata": {},
   "source": [
    "### RQ1: tISC in rTPJ\n",
    "\n",
    "#### Import modules"
   ]
  },
  {
   "cell_type": "code",
   "execution_count": 1,
   "metadata": {},
   "outputs": [
    {
     "name": "stderr",
     "output_type": "stream",
     "text": [
      "/opt/anaconda3/envs/neuroimaging/lib/python3.9/site-packages/nilearn/input_data/__init__.py:27: FutureWarning: The import path 'nilearn.input_data' is deprecated in version 0.9. Importing from 'nilearn.input_data' will be possible at least until release 0.13.0. Please import from 'nilearn.maskers' instead.\n",
      "  warnings.warn(message, FutureWarning)\n"
     ]
    }
   ],
   "source": [
    "import matplotlib.pyplot as plt\n",
    "%matplotlib inline\n",
    "import numpy as np\n",
    "from nilearn import input_data, datasets, plotting\n",
    "from nilearn.input_data import NiftiMasker\n",
    "import nilearn, pickle, sys, os\n",
    "import seaborn as sns\n",
    "import pandas as pd\n",
    "from utils import *\n",
    "import nibabel as nib\n",
    "#from nilearn.image import new_img_like, load_img, get_data\n",
    "sns.set_style('white')\n"
   ]
  },
  {
   "cell_type": "markdown",
   "metadata": {},
   "source": [
    "#### Set up segments\n",
    "see paper for details on scene coding"
   ]
  },
  {
   "cell_type": "code",
   "execution_count": 2,
   "metadata": {},
   "outputs": [
    {
     "name": "stdout",
     "output_type": "stream",
     "text": [
      "Onsets: [  7  45 116 138]\n",
      "Offsets: [ 45 116 138 157]\n",
      "Shifted Onsets: [ 14  52 123 145]\n",
      "Shifted Offsets: [ 52 123 145 164]\n"
     ]
    },
    {
     "data": {
      "text/plain": [
       "4"
      ]
     },
     "execution_count": 2,
     "metadata": {},
     "output_type": "execute_result"
    }
   ],
   "source": [
    "act_segments = [ 'Act  A    0:14 1:30    Secs( 14 -  90)   TRs (  7 -  45)   Premise: Clouds produce babies and storks deliver them',\n",
    "                 'Act  B    1:30 3:53    Secs( 90 - 233)   TRs ( 45 - 116)   Rising Action: Gus, the cloud, makes bad babies, which hurt Peck, the stork',\n",
    "                 'Act C/D   3:53 4:35    Secs(233 - 275)   TRs (116 - 138)   Conflict/Resolution & Climax: Peck leaves for another cloud, Gus is sad',\n",
    "                 'Act  E    4:35 5:14    Secs(275 - 314)   TRs (138 - 157)   Fall Out: Peck returns. He carries protective gear. Happily ever after ']\n",
    "\n",
    "onsets = np.array([7, 45, 116, 138])\n",
    "print('Onsets: ' + str(onsets))\n",
    "\n",
    "offsets = np.hstack((onsets[1:], 157))\n",
    "print('Offsets: ' + str(offsets))\n",
    "\n",
    "\n",
    "onsets = onsets + 5 + 2   # the onset and hrf delay\n",
    "print('Shifted Onsets: ' + str(onsets))\n",
    "offsets = offsets + 5 + 2   \n",
    "print('Shifted Offsets: ' + str(offsets))\n",
    "\n",
    "n_bins = len(onsets)\n",
    "n_bins"
   ]
  },
  {
   "cell_type": "markdown",
   "metadata": {},
   "source": [
    "### Run segment-wise ISC"
   ]
  },
  {
   "cell_type": "code",
   "execution_count": 3,
   "metadata": {
    "scrolled": false
   },
   "outputs": [
    {
     "name": "stdout",
     "output_type": "stream",
     "text": [
      "(33, 168, 268)\n",
      "33\n",
      "(33, 168, 268)\n",
      "(168, 268, 33)\n",
      "current bin0\n",
      "Assuming 33 subjects with 38 time points and 1 voxel(s) or ROI(s).\n",
      "[[0.2135208]]\n",
      "Assuming 33 subjects with 38 time points and 1 voxel(s) or ROI(s).\n",
      "Assuming 33 subjects with 38 time points and 1 voxel(s) or ROI(s).\n",
      "0.2039813575228261\n",
      "current bin1\n",
      "Assuming 33 subjects with 71 time points and 1 voxel(s) or ROI(s).\n",
      "[[0.39118979]]\n",
      "Assuming 33 subjects with 71 time points and 1 voxel(s) or ROI(s).\n",
      "Assuming 33 subjects with 71 time points and 1 voxel(s) or ROI(s).\n",
      "0.3731002485692174\n",
      "current bin2\n",
      "Assuming 33 subjects with 22 time points and 1 voxel(s) or ROI(s).\n",
      "[[0.26280503]]\n",
      "Assuming 33 subjects with 22 time points and 1 voxel(s) or ROI(s).\n",
      "Assuming 33 subjects with 22 time points and 1 voxel(s) or ROI(s).\n",
      "0.2447123765173375\n",
      "current bin3\n",
      "Assuming 33 subjects with 19 time points and 1 voxel(s) or ROI(s).\n",
      "[[0.25981225]]\n",
      "Assuming 33 subjects with 19 time points and 1 voxel(s) or ROI(s).\n",
      "Assuming 33 subjects with 19 time points and 1 voxel(s) or ROI(s).\n",
      "0.2369389379914642\n"
     ]
    }
   ],
   "source": [
    "# load data\n",
    "current_array_filename = '../data/ts_array_shen268_regional_average_ages13-99.npy'\n",
    "\n",
    "# swap axes \n",
    "ts_array = np.load(current_array_filename)\n",
    "print(ts_array.shape)\n",
    "\n",
    "n_subjs = ts_array.shape[0]\n",
    "print(n_subjs)\n",
    "\n",
    "print(ts_array.shape)\n",
    "ts_data = np.swapaxes(ts_array, 0, 2)\n",
    "ts_data = np.swapaxes(ts_data, 0, 1)\n",
    "print(ts_data.shape)\n",
    "\n",
    "stacked_res = []\n",
    "stacked_res_cond_vec = []\n",
    "segment_iscs = np.zeros( n_bins)\n",
    "a = []\n",
    "b = []\n",
    "\n",
    "\n",
    "relevant_region  = 47 #this is the rTPJ - see other notebook\n",
    "\n",
    "# loop over segments\n",
    "for curr_bin in range(4):#2,4, 1):\n",
    "            print('current bin' + str(curr_bin) )\n",
    "\n",
    "            curr_data = np.squeeze(ts_data[onsets[curr_bin]:offsets[curr_bin], relevant_region, : ])\n",
    "            #print('current data shape: ' + str(curr_data.shape) )\n",
    "\n",
    "            #curr_res = partly_isc(curr_data, \n",
    "            #                      summary_statistic=np.mean)\n",
    "\n",
    "            #segment_iscs[curr_bin] = curr_res[0]\n",
    "            #print(segment_iscs)\n",
    "            \n",
    "            curr_res = partly_isc(curr_data, summary_statistic=np.mean)\n",
    "            a.append(curr_res[0])\n",
    "            print(curr_res)\n",
    "            \n",
    "            curr_res = partly_isc(curr_data, pairwise = False)\n",
    "            stacked_res.append(np.arctanh(partly_isc(curr_data, pairwise = False)))\n",
    "            stacked_res_cond_vec.append((np.ones(curr_res.shape[0]) * curr_bin).T)\n",
    "            b.append(np.tanh(np.mean(np.arctanh(curr_res), axis=0))[np.newaxis, :][0])\n",
    "            print(np.mean(curr_res))"
   ]
  },
  {
   "cell_type": "code",
   "execution_count": 4,
   "metadata": {},
   "outputs": [
    {
     "name": "stdout",
     "output_type": "stream",
     "text": [
      "(132,)\n",
      "(132,)\n"
     ]
    }
   ],
   "source": [
    "ISC = np.asarray(stacked_res).flatten()\n",
    "cond = np.asarray(stacked_res_cond_vec).flatten()\n",
    "print(ISC.shape)\n",
    "print(cond.shape)"
   ]
  },
  {
   "cell_type": "code",
   "execution_count": 7,
   "metadata": {},
   "outputs": [
    {
     "data": {
      "image/png": "[encoded data removed]",
      "text/plain": [
       "<Figure size 576x432 with 1 Axes>"
      ]
     },
     "metadata": {},
     "output_type": "display_data"
    }
   ],
   "source": [
    "df = pd.DataFrame(ISC, columns = ['ISC'])\n",
    "df['Segment'] = cond\n",
    "df\n",
    "\n",
    "x = np.arange(segment_iscs.shape[0])\n",
    "\n",
    "fill_color = ['yellow', 'red','green','orange']\n",
    "\n",
    "plt.figure(figsize = (8,6))\n",
    "\n",
    "ax = sns.barplot(x=\"Segment\", y=\"ISC\", data=df,\n",
    "                palette = fill_color, alpha = 0.5)\n",
    "plt.xticks(x, ['Premise','Rising Action','Climax','Resolution']);\n",
    "\n",
    "sns.despine()"
   ]
  }
 ],
 "metadata": {
  "kernelspec": {
   "display_name": "Python 3",
   "language": "python",
   "name": "python3"
  },
  "language_info": {
   "codemirror_mode": {
    "name": "ipython",
    "version": 3
   },
   "file_extension": ".py",
   "mimetype": "text/x-python",
   "name": "python",
   "nbconvert_exporter": "python",
   "pygments_lexer": "ipython3",
   "version": "3.9.1"
  }
 },
 "nbformat": 4,
 "nbformat_minor": 4
}
