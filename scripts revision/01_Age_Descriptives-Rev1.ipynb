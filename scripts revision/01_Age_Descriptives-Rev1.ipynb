{
 "cells": [
  {
   "cell_type": "markdown",
   "metadata": {},
   "source": [
    "### Downloading data and extracting timeseries"
   ]
  },
  {
   "cell_type": "markdown",
   "metadata": {},
   "source": [
    "#### Load relevant modules"
   ]
  },
  {
   "cell_type": "code",
   "execution_count": 1,
   "metadata": {},
   "outputs": [],
   "source": [
    "import sys, os\n",
    "import numpy as np\n",
    "from nilearn import datasets"
   ]
  },
  {
   "cell_type": "markdown",
   "metadata": {},
   "source": [
    "#### Fetch dataset"
   ]
  },
  {
   "cell_type": "code",
   "execution_count": 2,
   "metadata": {},
   "outputs": [
    {
     "name": "stdout",
     "output_type": "stream",
     "text": [
      "First subject functional nifti image (4D) is at: /Users/ralfschmaelzle/nilearn_data/development_fmri/development_fmri/sub-pixar123_task-pixar_space-MNI152NLin2009cAsym_desc-preproc_bold.nii.gz\n"
     ]
    },
    {
     "data": {
      "text/plain": [
       "155"
      ]
     },
     "execution_count": 2,
     "metadata": {},
     "output_type": "execute_result"
    }
   ],
   "source": [
    "dataset = datasets.fetch_development_fmri()\n",
    "print('First subject functional nifti image (4D) is at: %s' %dataset.func[0])  \n",
    "\n",
    "n_subjs = len(dataset.func)\n",
    "n_subjs"
   ]
  },
  {
   "cell_type": "markdown",
   "metadata": {},
   "source": [
    "#### Select relevant ages for main analysis"
   ]
  },
  {
   "cell_type": "code",
   "execution_count": 3,
   "metadata": {},
   "outputs": [
    {
     "name": "stdout",
     "output_type": "stream",
     "text": [
      "4\n"
     ]
    }
   ],
   "source": [
    "ages = []\n",
    "for i in range(n_subjs):\n",
    "    ages.append(dataset['phenotypic'][i][1])\n",
    "    \n",
    "#indices_of_olderviewers = np.where(np.asarray(ages) > 18)\n",
    "ages = np.asarray(ages)\n",
    "\n",
    "age_brackets_onsets =  np.array([3 ,5, 8, 13])\n",
    "age_brackets_offsets = np.hstack((age_brackets_onsets[1:], 99))\n",
    "\n",
    "n_age_groups = len(age_brackets_onsets)\n",
    "print(n_age_groups)"
   ]
  },
  {
   "cell_type": "code",
   "execution_count": 4,
   "metadata": {},
   "outputs": [
    {
     "name": "stdout",
     "output_type": "stream",
     "text": [
      "Onset age: 3\n",
      "Offset age: 5\n",
      "Number of individuals in this age bracket: 31\n",
      "Member ages: [4.77481177 4.8569473  4.15331964 4.47364819 4.83778234 3.60574949\n",
      " 4.24914442 3.52908966 3.51813826 4.35865845 3.9835729  3.78644764\n",
      " 3.84941821 3.63586585 4.76659822 3.62217659 3.61396304 4.57768652\n",
      " 3.96988364 3.59479808 4.36413416 3.8220397  3.86584531 4.05749487\n",
      " 3.93155373 3.93155373 3.9890486  3.53456537 4.30937714 4.15605749\n",
      " 4.08487337]\n",
      "Mean age: 4.058201408645162\n",
      "Str age: 0.40552102836620885\n",
      "\n",
      "------\n",
      "\n",
      "Onset age: 5\n",
      "Offset age: 8\n",
      "Number of individuals in this age bracket: 57\n",
      "Member ages: [5.43 5.81 5.99 5.99 5.39 5.52 5.55 5.54 5.29 5.49 5.01 5.79 5.76 5.18\n",
      " 5.97 5.47 5.99 5.23 5.31 5.38 5.46 5.46 5.99 5.82 5.26 5.66 5.13 5.51\n",
      " 5.12 5.56 5.46 5.33 5.44 5.02 7.   7.92 7.92 7.96 7.15 7.13 7.91 7.95\n",
      " 7.95 7.83 7.06 7.07 7.91 7.91 7.28 7.1  7.46 7.71 7.13 7.66 7.43 7.68\n",
      " 7.21]\n",
      "Mean age: 6.32701754385965\n",
      "Str age: 1.0432976815481725\n",
      "\n",
      "------\n",
      "\n",
      "Onset age: 8\n",
      "Offset age: 13\n",
      "Number of individuals in this age bracket: 34\n",
      "Member ages: [ 9.45  8.6   9.76  9.48  9.96  8.02  8.15  9.7   8.48  8.59  9.52  9.94\n",
      "  8.87 10.19  9.59 11.17 11.17 10.55  8.57  8.66  8.02 11.51 10.7  10.38\n",
      " 10.78  8.62 12.05 10.29  9.68 12.3  10.5   8.62 11.48  8.76]\n",
      "Mean age: 9.767941176470588\n",
      "Str age: 1.1631290945795483\n",
      "\n",
      "------\n",
      "\n",
      "Onset age: 13\n",
      "Offset age: 99\n",
      "Number of individuals in this age bracket: 33\n",
      "Member ages: [27.06 33.44 31.   19.   23.   27.   23.   21.   39.   22.   21.   25.\n",
      " 21.   25.   34.   28.   18.   19.   22.   33.   22.   20.   22.   18.\n",
      " 21.   31.   24.   19.   23.   21.   30.   29.   26.  ]\n",
      "Mean age: 24.772727272727273\n",
      "Str age: 5.227470141199755\n",
      "\n",
      "------\n",
      "\n"
     ]
    }
   ],
   "source": [
    "for curr_age_bracket in range(n_age_groups):\n",
    "\n",
    "    print(\"Onset age: \" + str(age_brackets_onsets[curr_age_bracket]))\n",
    "    print(\"Offset age: \" + str(age_brackets_offsets[curr_age_bracket]))\n",
    "\n",
    "    indices_to_select = np.where((ages > age_brackets_onsets[curr_age_bracket]) & \n",
    "                                 (ages <= age_brackets_offsets[curr_age_bracket])) \n",
    "\n",
    "    #print(indices_to_select)\n",
    "    print(\"Number of individuals in this age bracket: \" + str(indices_to_select[0].shape[0]))\n",
    "\n",
    "    print('Member ages: ' + str(ages[indices_to_select]))\n",
    "    print('Mean age: ' + str(np.mean(ages[indices_to_select])))\n",
    "    print('Str age: ' + str(np.std(ages[indices_to_select])))           \n",
    "    print('\\n------\\n')#'''"
   ]
  },
  {
   "cell_type": "code",
   "execution_count": 5,
   "metadata": {},
   "outputs": [
    {
     "data": {
      "text/plain": [
       "array([1, 0, 0, 0, 0, 0, 1, 0, 1, 1, 0, 0, 1, 1, 0, 1, 0, 1, 1, 1, 0, 0,\n",
       "       0, 1, 0, 0, 0, 1, 1, 0, 0, 0, 1, 1, 1, 0, 1, 0, 1, 1, 1, 0, 1, 1,\n",
       "       1, 0, 0, 1, 1, 0, 1, 0, 1, 1, 1, 0, 0, 0, 0, 0, 0, 0, 1, 1, 0, 0,\n",
       "       0, 0, 1, 0, 1, 0, 0, 1, 1, 1, 1, 0, 1, 1, 0, 0, 0, 1, 0, 0, 1, 1,\n",
       "       1, 1, 1, 1, 0, 0, 0, 0, 0, 1, 1, 1, 1, 0, 1, 0, 1, 1, 1, 0, 0, 0,\n",
       "       0, 1, 0, 1, 0, 0, 1, 0, 0, 0, 0, 1])"
      ]
     },
     "execution_count": 5,
     "metadata": {},
     "output_type": "execute_result"
    }
   ],
   "source": [
    "sex = []\n",
    "for i in range(n_subjs):\n",
    "    if dataset['phenotypic'][i][1] < 18:\n",
    "        #print(dataset['phenotypic'][i][3])\n",
    "        if dataset['phenotypic'][i][4] == 'M':\n",
    "            sex.append(1)\n",
    "        else:\n",
    "            sex.append(0)\n",
    "#indices_of_olderviewers = np.where(np.asarray(ages) > 18)\n",
    "\n",
    "sex = np.asarray(sex)\n",
    "sex"
   ]
  },
  {
   "cell_type": "code",
   "execution_count": 6,
   "metadata": {},
   "outputs": [
    {
     "data": {
      "text/plain": [
       "58"
      ]
     },
     "execution_count": 6,
     "metadata": {},
     "output_type": "execute_result"
    }
   ],
   "source": [
    "np.sum(sex)"
   ]
  }
 ],
 "metadata": {
  "kernelspec": {
   "display_name": "Python 3",
   "language": "python",
   "name": "python3"
  },
  "language_info": {
   "codemirror_mode": {
    "name": "ipython",
    "version": 3
   },
   "file_extension": ".py",
   "mimetype": "text/x-python",
   "name": "python",
   "nbconvert_exporter": "python",
   "pygments_lexer": "ipython3",
   "version": "3.9.1"
  }
 },
 "nbformat": 4,
 "nbformat_minor": 2
}
